{
  "nbformat": 4,
  "nbformat_minor": 0,
  "metadata": {
    "colab": {
      "private_outputs": true,
      "provenance": [],
      "collapsed_sections": [
        "vncDsAP0Gaoa",
        "FJNUwmbgGyua",
        "w6K7xa23Elo4",
        "yQaldy8SH6Dl",
        "PH-0ReGfmX4f",
        "mDgbUHAGgjLW",
        "O_i_v8NEhb9l",
        "HhfV-JJviCcP",
        "Y3lxredqlCYt",
        "3RnN4peoiCZX",
        "x71ZqKXriCWQ",
        "7hBIi_osiCS2",
        "JlHwYmJAmNHm",
        "35m5QtbWiB9F",
        "PoPl-ycgm1ru",
        "H0kj-8xxnORC",
        "nA9Y7ga8ng1Z",
        "PBTbrJXOngz2",
        "u3PMJOP6ngxN",
        "dauF4eBmngu3",
        "bKJF3rekwFvQ",
        "MSa1f5Uengrz",
        "GF8Ens_Soomf",
        "0wOQAZs5pc--",
        "K5QZ13OEpz2H",
        "lQ7QKXXCp7Bj",
        "448CDAPjqfQr",
        "KSlN3yHqYklG",
        "t6dVpIINYklI",
        "ijmpgYnKYklI",
        "-JiQyfWJYklI",
        "EM7whBJCYoAo",
        "fge-S5ZAYoAp",
        "85gYPyotYoAp",
        "RoGjAbkUYoAp",
        "4Of9eVA-YrdM",
        "iky9q4vBYrdO",
        "F6T5p64dYrdO",
        "y-Ehk30pYrdP",
        "bamQiAODYuh1",
        "QHF8YVU7Yuh3",
        "GwzvFGzlYuh3",
        "qYpmQ266Yuh3",
        "OH-pJp9IphqM",
        "bbFf2-_FphqN",
        "_ouA3fa0phqN",
        "Seke61FWphqN",
        "PIIx-8_IphqN",
        "t27r6nlMphqO",
        "r2jJGEOYphqO",
        "b0JNsNcRphqO",
        "BZR9WyysphqO",
        "jj7wYXLtphqO",
        "eZrbJ2SmphqO",
        "rFu4xreNphqO",
        "YJ55k-q6phqO",
        "gCFgpxoyphqP",
        "OVtJsKN_phqQ",
        "lssrdh5qphqQ",
        "U2RJ9gkRphqQ",
        "1M8mcRywphqQ",
        "tgIPom80phqQ",
        "JMzcOPDDphqR",
        "x-EpHcCOp1ci",
        "X_VqEhTip1ck",
        "8zGJKyg5p1ck",
        "PVzmfK_Ep1ck",
        "n3dbpmDWp1ck",
        "ylSl6qgtp1ck",
        "ZWILFDl5p1ck",
        "M7G43BXep1ck",
        "Ag9LCva-p1cl",
        "E6MkPsBcp1cl",
        "2cELzS2fp1cl",
        "3MPXvC8up1cl",
        "NC_X3p0fY2L0",
        "UV0SzAkaZNRQ",
        "YPEH6qLeZNRQ",
        "q29F0dvdveiT",
        "EXh0U9oCveiU",
        "22aHeOlLveiV",
        "JcMwzZxoAimU",
        "8G2x9gOozGDZ",
        "gCX9965dhzqZ",
        "gIfDvo9L0UH2"
      ],
      "include_colab_link": true
    },
    "kernelspec": {
      "name": "python3",
      "display_name": "Python 3"
    },
    "language_info": {
      "name": "python"
    }
  },
  "cells": [
    {
      "cell_type": "markdown",
      "metadata": {
        "id": "view-in-github",
        "colab_type": "text"
      },
      "source": [
        "<a href=\"https://colab.research.google.com/github/ShebinCZacharia/EDA/blob/main/Copy_of_EDA_Submission_Template.ipynb\" target=\"_parent\"><img src=\"https://colab.research.google.com/assets/colab-badge.svg\" alt=\"Open In Colab\"/></a>"
      ]
    },
    {
      "cell_type": "markdown",
      "source": [
        "# **Project Name**    - AirBnb Bookings Analysis\n",
        "\n"
      ],
      "metadata": {
        "id": "vncDsAP0Gaoa"
      }
    },
    {
      "cell_type": "markdown",
      "source": [
        "##### **Project Type**    - EDA\n",
        "##### **Contribution**    - Individual\n"
      ],
      "metadata": {
        "id": "beRrZCGUAJYm"
      }
    },
    {
      "cell_type": "markdown",
      "source": [
        "# **Problem Statement**\n"
      ],
      "metadata": {
        "id": "yQaldy8SH6Dl"
      }
    },
    {
      "cell_type": "markdown",
      "source": [
        "Airbnb became one of a kind service that is used and recognized by the whole world. Data analysis on millions of listings provided through Airbnb is a crucial factor for the company. This dataset has around 49000 rows and 16 columns. Explore and analyze the data to discover key understandings."
      ],
      "metadata": {
        "id": "DpeJGUA3kjGy"
      }
    },
    {
      "cell_type": "markdown",
      "source": [
        "#### **Define Your Business Objective?**"
      ],
      "metadata": {
        "id": "PH-0ReGfmX4f"
      }
    },
    {
      "cell_type": "markdown",
      "source": [
        "To understand customers' and providers' behaviours and performance on platform, to take business decisions, guiding marketing initiatives and implementation of innovative additional services."
      ],
      "metadata": {
        "id": "PhDvGCAqmjP1"
      }
    },
    {
      "cell_type": "markdown",
      "source": [
        "# ***Let's Begin !***"
      ],
      "metadata": {
        "id": "O_i_v8NEhb9l"
      }
    },
    {
      "cell_type": "markdown",
      "source": [
        "## ***1. Know Your Data***"
      ],
      "metadata": {
        "id": "HhfV-JJviCcP"
      }
    },
    {
      "cell_type": "markdown",
      "source": [
        "### Import Libraries"
      ],
      "metadata": {
        "id": "Y3lxredqlCYt"
      }
    },
    {
      "cell_type": "code",
      "source": [
        "# Import Libraries\n",
        "import numpy as np\n",
        "import pandas as pd\n",
        "import matplotlib.pyplot as plt\n",
        "import seaborn as sns"
      ],
      "metadata": {
        "id": "M8Vqi-pPk-HR"
      },
      "execution_count": null,
      "outputs": []
    },
    {
      "cell_type": "markdown",
      "source": [
        "### Dataset Loading"
      ],
      "metadata": {
        "id": "3RnN4peoiCZX"
      }
    },
    {
      "cell_type": "code",
      "source": [
        "# Load Dataset\n",
        "file_path =  'Airbnb NYC 2019.csv'\n",
        "df = pd.read_csv(file_path)"
      ],
      "metadata": {
        "id": "4CkvbW_SlZ_R"
      },
      "execution_count": null,
      "outputs": []
    },
    {
      "cell_type": "markdown",
      "source": [
        "### Dataset First View"
      ],
      "metadata": {
        "id": "x71ZqKXriCWQ"
      }
    },
    {
      "cell_type": "code",
      "source": [
        "# Dataset First Look\n",
        "df.head()"
      ],
      "metadata": {
        "id": "LWNFOSvLl09H"
      },
      "execution_count": null,
      "outputs": []
    },
    {
      "cell_type": "code",
      "source": [
        "df.tail()"
      ],
      "metadata": {
        "id": "jIokA3PPM2X4"
      },
      "execution_count": null,
      "outputs": []
    },
    {
      "cell_type": "markdown",
      "source": [
        "### Dataset Rows & Columns count"
      ],
      "metadata": {
        "id": "7hBIi_osiCS2"
      }
    },
    {
      "cell_type": "code",
      "source": [
        "# Dataset Rows & Columns count\n",
        "rows, columns = df.shape\n",
        "print(f'Number of rows in the dataset are {rows}')\n",
        "print(f'Number of columns in the dataset are {columns}')"
      ],
      "metadata": {
        "id": "Kllu7SJgmLij"
      },
      "execution_count": null,
      "outputs": []
    },
    {
      "cell_type": "markdown",
      "source": [
        "### Dataset Information"
      ],
      "metadata": {
        "id": "JlHwYmJAmNHm"
      }
    },
    {
      "cell_type": "code",
      "source": [
        "# Dataset Info\n",
        "df.info"
      ],
      "metadata": {
        "id": "e9hRXRi6meOf"
      },
      "execution_count": null,
      "outputs": []
    },
    {
      "cell_type": "markdown",
      "source": [
        "#### Duplicate Values"
      ],
      "metadata": {
        "id": "35m5QtbWiB9F"
      }
    },
    {
      "cell_type": "code",
      "source": [
        "# Dataset Duplicate Value Count\n",
        "df.duplicated().sum()"
      ],
      "metadata": {
        "id": "1sLdpKYkmox0"
      },
      "execution_count": null,
      "outputs": []
    },
    {
      "cell_type": "markdown",
      "source": [
        "#### Missing Values/Null Values"
      ],
      "metadata": {
        "id": "PoPl-ycgm1ru"
      }
    },
    {
      "cell_type": "code",
      "source": [
        "# Missing Values/Null Values Count\n",
        "column_wise_missing_values = df.isna().sum()\n",
        "total_missing_values = column_wise_missing_values.sum()\n",
        "print(column_wise_missing_values)\n",
        "print('\\n')\n",
        "print(f'Total missing values are {total_missing_values}')"
      ],
      "metadata": {
        "id": "GgHWkxvamxVg"
      },
      "execution_count": null,
      "outputs": []
    },
    {
      "cell_type": "code",
      "source": [
        "# Visualizing the missing values\n",
        "column_wise_missing_values.plot(kind='bar')\n",
        "plt.title('Missing values per column')\n",
        "plt.xlabel('columns')\n",
        "plt.ylabel('number of missing values')"
      ],
      "metadata": {
        "id": "3q5wnI3om9sJ"
      },
      "execution_count": null,
      "outputs": []
    },
    {
      "cell_type": "code",
      "source": [
        "sns.heatmap(df.isna())"
      ],
      "metadata": {
        "id": "Bu-q2N49mC_o"
      },
      "execution_count": null,
      "outputs": []
    },
    {
      "cell_type": "markdown",
      "source": [
        "### What did you know about your dataset?"
      ],
      "metadata": {
        "id": "H0kj-8xxnORC"
      }
    },
    {
      "cell_type": "markdown",
      "source": [
        "1.It is a relatively smaller data set with about 49,000 entries and 16 columns.\n",
        "\n",
        "2.Above dataset has no duplicate entries.\n",
        "\n",
        "3.The null values in columns 'last_review' and 'reviews_per_month' probably exits because no reviews were published for that particular Id."
      ],
      "metadata": {
        "id": "gfoNAAC-nUe_"
      }
    },
    {
      "cell_type": "markdown",
      "source": [
        "## ***2. Understanding Your Variables***"
      ],
      "metadata": {
        "id": "nA9Y7ga8ng1Z"
      }
    },
    {
      "cell_type": "code",
      "source": [
        "# Dataset Columns\n",
        "df.columns"
      ],
      "metadata": {
        "id": "j7xfkqrt5Ag5"
      },
      "execution_count": null,
      "outputs": []
    },
    {
      "cell_type": "code",
      "source": [
        "# Dataset Describe\n",
        "\n",
        "df.describe()"
      ],
      "metadata": {
        "id": "DnOaZdaE5Q5t"
      },
      "execution_count": null,
      "outputs": []
    },
    {
      "cell_type": "markdown",
      "source": [
        "### Variables Description "
      ],
      "metadata": {
        "id": "PBTbrJXOngz2"
      }
    },
    {
      "cell_type": "markdown",
      "source": [
        "1.id : It is the unique Id of the listing.\n",
        "\n",
        "2.name : Name of the listing.\n",
        "\n",
        "3.host_id : Unique host_id\n",
        "\n",
        "4.host_name : Name of the host.\n",
        "\n",
        "5.neighbourhood_group : location\n",
        "\n",
        "6.neighbourhood : area\n",
        "\n",
        "7.lattitude : lattitude range.\n",
        "\n",
        "8.longitude : longitude range\n",
        "\n",
        "9.price : price of listing.\n",
        "\n",
        "10.min_nights : minimum nights to be paid for.\n",
        "\n",
        "11.number_of_reviews : number of reviews.\n",
        "\n",
        "12.last_review : content of the last review.\n",
        "\n",
        "13.review_per_month : number of checks per month.\n",
        "\n",
        "14.calculated_host_listings_count : Total count.\n",
        "\n",
        "15.availability_365 : availability around the year."
      ],
      "metadata": {
        "id": "aJV4KIxSnxay"
      }
    },
    {
      "cell_type": "markdown",
      "source": [
        "### Check Unique Values for each variable."
      ],
      "metadata": {
        "id": "u3PMJOP6ngxN"
      }
    },
    {
      "cell_type": "code",
      "source": [
        "column_list = list(df.columns.values)"
      ],
      "metadata": {
        "id": "AAEs4VJHksL_"
      },
      "execution_count": null,
      "outputs": []
    },
    {
      "cell_type": "code",
      "source": [
        "# Check Unique Values for each variable.\n",
        "for item in column_list:\n",
        "  print(f'Unique {item} : {df[item].nunique()}')"
      ],
      "metadata": {
        "id": "zms12Yq5n-jE"
      },
      "execution_count": null,
      "outputs": []
    },
    {
      "cell_type": "markdown",
      "source": [
        "## 3. ***Data Wrangling***"
      ],
      "metadata": {
        "id": "dauF4eBmngu3"
      }
    },
    {
      "cell_type": "markdown",
      "source": [
        "### Data Wrangling Code"
      ],
      "metadata": {
        "id": "bKJF3rekwFvQ"
      }
    },
    {
      "cell_type": "markdown",
      "source": [
        "Dealing with '0' values in price column."
      ],
      "metadata": {
        "id": "AhXSE8CLYjUv"
      }
    },
    {
      "cell_type": "code",
      "source": [
        "# Removing the listings with price 0, which is an anomaly.\n",
        "df = df[df['price'] != 0]"
      ],
      "metadata": {
        "id": "iE5Yi83sJXFy"
      },
      "execution_count": null,
      "outputs": []
    },
    {
      "cell_type": "markdown",
      "source": [
        "Converting dtype of last review column for analysis."
      ],
      "metadata": {
        "id": "7lA7Pe_QY2nd"
      }
    },
    {
      "cell_type": "code",
      "source": [
        "# Converting last_review column to datetime object.\n",
        "df['last_review'] = pd.to_datetime(df['last_review'], format='%Y-%M-%d')"
      ],
      "metadata": {
        "id": "wOwLUcUeFQYf"
      },
      "execution_count": null,
      "outputs": []
    },
    {
      "cell_type": "code",
      "source": [
        "# Extracting month.\n",
        "df['last_review_month'] = df['last_review'].dt.strftime('%b')\n",
        "df['last_review_month'] = df['last_review_month'].fillna('0')"
      ],
      "metadata": {
        "id": "3RsluA8Rqtnl"
      },
      "execution_count": null,
      "outputs": []
    },
    {
      "cell_type": "code",
      "source": [
        "# checking unique values.\n",
        "df['last_review_month'].unique()"
      ],
      "metadata": {
        "id": "SXnPo6DXs9Yl"
      },
      "execution_count": null,
      "outputs": []
    },
    {
      "cell_type": "code",
      "source": [
        "# Extracting year from the modified column to add a new colum named year to the dataframe.\n",
        "df['year'] = df['last_review'].dt.year"
      ],
      "metadata": {
        "id": "vrxvjEm0Iz5i"
      },
      "execution_count": null,
      "outputs": []
    },
    {
      "cell_type": "code",
      "source": [
        "# Changing the dtype to int instead of float.\n",
        "df['year'] = df['year'].fillna('0').astype(int)"
      ],
      "metadata": {
        "id": "e_WpQjGsU4ij"
      },
      "execution_count": null,
      "outputs": []
    },
    {
      "cell_type": "code",
      "source": [
        "# Dropping the last_review column.\n",
        "df.drop(['last_review'], axis=1, inplace=True)"
      ],
      "metadata": {
        "id": "ISYydaBoVxje"
      },
      "execution_count": null,
      "outputs": []
    },
    {
      "cell_type": "code",
      "source": [
        "# Renaming year to last_review_year\n",
        "df.rename(columns={'year': 'last_review_year'}, inplace=True)"
      ],
      "metadata": {
        "id": "9t9u7X-0W3gt"
      },
      "execution_count": null,
      "outputs": []
    },
    {
      "cell_type": "code",
      "source": [
        "# First view after the operations.\n",
        "df.head(100)"
      ],
      "metadata": {
        "id": "Zw1YsfM6GG7T"
      },
      "execution_count": null,
      "outputs": []
    },
    {
      "cell_type": "markdown",
      "source": [
        "Specific Ideas that can be inferred from the dataframe.\n",
        "\n"
      ],
      "metadata": {
        "id": "rh4m9JUcQMri"
      }
    },
    {
      "cell_type": "code",
      "source": [
        "#neighbourhood wise and neighbourhood_group wise count of listings\n",
        "county = df.groupby('neighbourhood_group')['id'].count().reset_index(name='listings').sort_values(by=['listings'])\n",
        "cities = df.groupby('neighbourhood')['id'].count().reset_index(name='listings')"
      ],
      "metadata": {
        "id": "nww1pU9MMp4U"
      },
      "execution_count": null,
      "outputs": []
    },
    {
      "cell_type": "code",
      "source": [
        "county"
      ],
      "metadata": {
        "id": "Xkg5vfDPd697"
      },
      "execution_count": null,
      "outputs": []
    },
    {
      "cell_type": "code",
      "source": [
        "cities"
      ],
      "metadata": {
        "id": "ZHjueW3eZkHT"
      },
      "execution_count": null,
      "outputs": []
    },
    {
      "cell_type": "code",
      "source": [
        "# neighbourhood with maximum listings.\n",
        "cities[cities['listings'] == cities['listings'].max()]"
      ],
      "metadata": {
        "id": "AXEU64kjOf_J"
      },
      "execution_count": null,
      "outputs": []
    },
    {
      "cell_type": "code",
      "source": [
        "# neighbourhood_group with maximum listings.\n",
        "county[county['listings'] == county['listings'].max()]"
      ],
      "metadata": {
        "id": "hf1xKaVAkzLy"
      },
      "execution_count": null,
      "outputs": []
    },
    {
      "cell_type": "code",
      "source": [
        "# Host with maximum listings\n",
        "max_listings_count = df['calculated_host_listings_count'].max()\n",
        "max_listings_host_id = df.loc[df['calculated_host_listings_count'] == max_listings_count, 'host_id'].unique()"
      ],
      "metadata": {
        "id": "EcVel_vTRsxe"
      },
      "execution_count": null,
      "outputs": []
    },
    {
      "cell_type": "code",
      "source": [
        "print(f'Host with id {int(max_listings_host_id)} has maximum listings of {max_listings_count}')"
      ],
      "metadata": {
        "id": "dDISmr5JQI18"
      },
      "execution_count": null,
      "outputs": []
    },
    {
      "cell_type": "code",
      "source": [
        "# Exploring different room types.\n",
        "df['room_type'].unique()"
      ],
      "metadata": {
        "id": "i3rF4VOgq54m"
      },
      "execution_count": null,
      "outputs": []
    },
    {
      "cell_type": "code",
      "source": [
        "# Determining which room type is most expensive.\n",
        "avg_room_type_tariff = df.groupby('room_type')['price'].mean().round(2).to_frame()\n",
        "avg_room_type_tariff[avg_room_type_tariff['price'] == avg_room_type_tariff['price'].max()]"
      ],
      "metadata": {
        "id": "DNgXPNUArTmr"
      },
      "execution_count": null,
      "outputs": []
    },
    {
      "cell_type": "code",
      "source": [
        "# Comparison between price of room types in different neighbourhood groups.\n",
        "\n",
        "avg_price = round(df.groupby(['room_type', 'neighbourhood_group'])['price'].agg(['mean', 'median']),2)\n",
        "avg_price.rename({'mean':'avg_price','median':'median_price'}, axis=1, inplace=True)\n",
        "avg_price"
      ],
      "metadata": {
        "id": "F7os24WeSZ5l"
      },
      "execution_count": null,
      "outputs": []
    },
    {
      "cell_type": "code",
      "source": [
        "room_availability = round(df.groupby(['room_type', 'neighbourhood_group'])['availability_365'].agg(['mean', 'median']),2)\n",
        "room_availability.rename({'mean':'avg_availability','median':'median_availability'}, axis=1, inplace=True)\n",
        "room_availability"
      ],
      "metadata": {
        "id": "7eBi3lw2tE_X"
      },
      "execution_count": null,
      "outputs": []
    },
    {
      "cell_type": "code",
      "source": [
        "# listing with maximum reviews\n",
        "df[df['number_of_reviews'] == df['number_of_reviews'].max()]"
      ],
      "metadata": {
        "id": "gQzKr8Rtxtdb"
      },
      "execution_count": null,
      "outputs": []
    },
    {
      "cell_type": "code",
      "source": [
        "df_copy = df.drop(['id','name', 'host_id', 'host_name', 'last_review_month'], axis=1 )"
      ],
      "metadata": {
        "id": "GdGoJFwCbGLc"
      },
      "execution_count": null,
      "outputs": []
    },
    {
      "cell_type": "markdown",
      "source": [
        "### What all manipulations have you done and insights you found?"
      ],
      "metadata": {
        "id": "MSa1f5Uengrz"
      }
    },
    {
      "cell_type": "markdown",
      "source": [
        "1. There are some listings with price per minimum night as 0.This can be a price update issue from the server side or client side. These observations are removed for further analysis.\n",
        "2. The last review column is converted to datatime object and the year part is extracted for further analysis.\n",
        "3. Brooklyn and Manhattan have the largest number of listings as these are the most populated locations among the neighbourhood groups.\n",
        "4. Host with id 219517861 has maximum listings of 327 and all these listings are located in Manhattan.\n",
        "5. There are three different room types namely shared room, private room and Entire home/apartment and the third one is the most expensive among the three.\n",
        "6. Statistical operations were done on availability_365 and price in different neighbourhood groups.\n",
        "7. Copy of df is generated after dropping columns that might not be necessary for next part of visualisation. \n"
      ],
      "metadata": {
        "id": "LbyXE7I1olp8"
      }
    },
    {
      "cell_type": "markdown",
      "source": [
        "## ***4. Data Vizualization, Storytelling & Experimenting with charts : Understand the relationships between variables***"
      ],
      "metadata": {
        "id": "GF8Ens_Soomf"
      }
    },
    {
      "cell_type": "markdown",
      "source": [
        "#### Chart - 1"
      ],
      "metadata": {
        "id": "0wOQAZs5pc--"
      }
    },
    {
      "cell_type": "code",
      "source": [
        "# Chart - 1 visualization code\n",
        "# Count plot of neighbourhood groups.\n",
        "plt.figure(figsize=(10,6))\n",
        "sns.countplot(df_copy['neighbourhood_group'])\n",
        "plt.show()"
      ],
      "metadata": {
        "id": "7v_ESjsspbW7"
      },
      "execution_count": null,
      "outputs": []
    },
    {
      "cell_type": "markdown",
      "source": [
        "##### 1. Why did you pick the specific chart?"
      ],
      "metadata": {
        "id": "K5QZ13OEpz2H"
      }
    },
    {
      "cell_type": "markdown",
      "source": [
        "* This chart compares the number of listings in different neighbourhood groups."
      ],
      "metadata": {
        "id": "XESiWehPqBRc"
      }
    },
    {
      "cell_type": "markdown",
      "source": [
        "##### 2. What is/are the insight(s) found from the chart?"
      ],
      "metadata": {
        "id": "lQ7QKXXCp7Bj"
      }
    },
    {
      "cell_type": "markdown",
      "source": [
        " * Manhattan has the most number of listings followed by Brooklyn.\n",
        " * Staten Island and Bronx have the lowest."
      ],
      "metadata": {
        "id": "C_j1G7yiqdRP"
      }
    },
    {
      "cell_type": "markdown",
      "source": [
        "##### 3. Will the gained insights help creating a positive business impact? \n",
        "Are there any insights that lead to negative growth? Justify with specific reason."
      ],
      "metadata": {
        "id": "448CDAPjqfQr"
      }
    },
    {
      "cell_type": "markdown",
      "source": [
        " * The major chunk of revenue for AirBnb comes from the neighbourhood groups Brooklyn and Manhattan as they have the largest number of listings. Running targetted campaigns to attract clients to Airbnb by showing how lucrative renting through AirBnb can be in Brooklyn and Manhattan.\n",
        " * For the rest of the neighbourhood groups, the company could make the people aware of the potential of properties they hold and how they could benefit from AirBnb.    "
      ],
      "metadata": {
        "id": "3cspy4FjqxJW"
      }
    },
    {
      "cell_type": "markdown",
      "source": [
        "#### Chart - 2"
      ],
      "metadata": {
        "id": "KSlN3yHqYklG"
      }
    },
    {
      "cell_type": "code",
      "source": [
        "# Chart - 2 visualization code\n",
        "# count plot of room types.\n",
        "plt.figure(figsize=(8,6))\n",
        "sns.countplot(df_copy['room_type'])\n",
        "plt.show()"
      ],
      "metadata": {
        "id": "R4YgtaqtYklH"
      },
      "execution_count": null,
      "outputs": []
    },
    {
      "cell_type": "markdown",
      "source": [
        "##### 1. Why did you pick the specific chart?"
      ],
      "metadata": {
        "id": "t6dVpIINYklI"
      }
    },
    {
      "cell_type": "markdown",
      "source": [
        "* The above chart shows the number of categorical rooms provided by the listings."
      ],
      "metadata": {
        "id": "5aaW0BYyYklI"
      }
    },
    {
      "cell_type": "markdown",
      "source": [
        "##### 2. What is/are the insight(s) found from the chart?"
      ],
      "metadata": {
        "id": "ijmpgYnKYklI"
      }
    },
    {
      "cell_type": "markdown",
      "source": [
        "* The number of private rooms and entire home/apt exceeds the number of shared rooms by a large number.\n",
        "* It can be assumed that the demand for private rooms and apartments are the highest among the different room types. "
      ],
      "metadata": {
        "id": "PSx9atu2YklI"
      }
    },
    {
      "cell_type": "markdown",
      "source": [
        "##### 3. Will the gained insights help creating a positive business impact? \n",
        "Are there any insights that lead to negative growth? Justify with specific reason."
      ],
      "metadata": {
        "id": "-JiQyfWJYklI"
      }
    },
    {
      "cell_type": "markdown",
      "source": [
        "* Yeah, it helps creating a positive business impact as the chart helps to identify the categories of room which is of high demand."
      ],
      "metadata": {
        "id": "BcBbebzrYklV"
      }
    },
    {
      "cell_type": "markdown",
      "source": [
        "#### Chart - 3"
      ],
      "metadata": {
        "id": "EM7whBJCYoAo"
      }
    },
    {
      "cell_type": "code",
      "source": [
        "# Chart - 3 visualization code\n",
        "plt.figure(figsize=(10,6))\n",
        "x = df_copy.groupby(['room_type', 'neighbourhood_group'])['room_type'].count().reset_index(name='number')\n",
        "sns.barplot(data=x, x='neighbourhood_group', y='number', hue='room_type')\n",
        "plt.show()"
      ],
      "metadata": {
        "id": "t6GMdE67YoAp"
      },
      "execution_count": null,
      "outputs": []
    },
    {
      "cell_type": "markdown",
      "source": [
        "##### 1. Why did you pick the specific chart?"
      ],
      "metadata": {
        "id": "fge-S5ZAYoAp"
      }
    },
    {
      "cell_type": "markdown",
      "source": [
        "* This chart helps to enumerate the rooms of different types available in various nerighbourhood groups."
      ],
      "metadata": {
        "id": "5dBItgRVYoAp"
      }
    },
    {
      "cell_type": "markdown",
      "source": [
        "##### 2. What is/are the insight(s) found from the chart?"
      ],
      "metadata": {
        "id": "85gYPyotYoAp"
      }
    },
    {
      "cell_type": "markdown",
      "source": [
        "* Manhattan and brooklyn have the most number of rooms among the neighbourhood groups and the most preferred room type is entire home/apartment.\n",
        "* Bronx and Staten Island have very few rooms available compared to other neighbourhood groups.\n",
        "* The number of shared rooms are the lowest among different room types.\n"
      ],
      "metadata": {
        "id": "4jstXR6OYoAp"
      }
    },
    {
      "cell_type": "markdown",
      "source": [
        "##### 3. Will the gained insights help creating a positive business impact? \n",
        "Are there any insights that lead to negative growth? Justify with specific reason."
      ],
      "metadata": {
        "id": "RoGjAbkUYoAp"
      }
    },
    {
      "cell_type": "markdown",
      "source": [
        "Yeah, this graph helps to identify the most and least preferred room types in different groups and their numbers."
      ],
      "metadata": {
        "id": "zfJ8IqMcYoAp"
      }
    },
    {
      "cell_type": "markdown",
      "source": [
        "#### Chart - 4"
      ],
      "metadata": {
        "id": "PIIx-8_IphqN"
      }
    },
    {
      "cell_type": "code",
      "source": [
        "# Chart - 4 visualization code\n",
        "fig, (ax1,ax2) = plt.subplots(1,2, figsize=(16,6))\n",
        "sns.boxplot(data=df, x='room_type', y='availability_365',ax=ax1)\n",
        "sns.boxplot(data=df, x='neighbourhood_group', y='availability_365',ax=ax2)\n",
        "plt.show()\n"
      ],
      "metadata": {
        "id": "lqAIGUfyphqO"
      },
      "execution_count": null,
      "outputs": []
    },
    {
      "cell_type": "markdown",
      "source": [
        "##### 1. Why did you pick the specific chart?"
      ],
      "metadata": {
        "id": "t27r6nlMphqO"
      }
    },
    {
      "cell_type": "markdown",
      "source": [
        "* Chart 1 helps to understand the median availability of different room types.\n",
        "* Chart 2 helps to understand the median availability of rooms in different neighbourhoods.\n"
      ],
      "metadata": {
        "id": "iv6ro40sphqO"
      }
    },
    {
      "cell_type": "markdown",
      "source": [
        "##### 2. What is/are the insight(s) found from the chart?"
      ],
      "metadata": {
        "id": "r2jJGEOYphqO"
      }
    },
    {
      "cell_type": "markdown",
      "source": [
        "* Chart 1 : In more than 50% of the rooms among private room and entire home/apt, the availability around the year is less than 50 while shared rooms are available for nearly 100 days in the year. \n",
        "* Chart 2: Brooklyn and Manhattan has least availability of rooms, where as Staten Island and Bronx have rooms available for 150-200 days."
      ],
      "metadata": {
        "id": "Po6ZPi4hphqO"
      }
    },
    {
      "cell_type": "markdown",
      "source": [
        "##### 3. Will the gained insights help creating a positive business impact? \n",
        "Are there any insights that lead to negative growth? Justify with specific reason."
      ],
      "metadata": {
        "id": "b0JNsNcRphqO"
      }
    },
    {
      "cell_type": "markdown",
      "source": [
        "Yeah, the above insights helps to create a positive business impact."
      ],
      "metadata": {
        "id": "xvSq8iUTphqO"
      }
    },
    {
      "cell_type": "markdown",
      "source": [
        "#### Chart - 5"
      ],
      "metadata": {
        "id": "4Of9eVA-YrdM"
      }
    },
    {
      "cell_type": "code",
      "source": [
        "# Chart - 4 visualization code: Box plot\n",
        "new_df = df_copy.loc[:,['price', 'availability_365', 'number_of_reviews', 'reviews_per_month', 'minimum_nights', 'last_review_year' ]]\n",
        "rows = 2\n",
        "columns = 3\n",
        "fig = plt.figure(figsize= (15,5))\n",
        "for i, column in enumerate(new_df.columns):\n",
        "  ax=fig.add_subplot(rows, columns, i+1)\n",
        "  sns.boxplot(data=new_df, x=new_df[column])\n",
        "fig.tight_layout()\n",
        "plt.show()\n",
        "\n"
      ],
      "metadata": {
        "id": "irlUoxc8YrdO"
      },
      "execution_count": null,
      "outputs": []
    },
    {
      "cell_type": "code",
      "source": [
        "# Box plot after removing outliers.\n",
        "\n",
        "d = df.loc[df['last_review_year'] > 0, ['last_review_year']].squeeze()\n",
        "e = df.loc[df['minimum_nights'] < 50, ['minimum_nights']].squeeze()\n",
        "\n",
        "\n",
        "sns.set_style(\"whitegrid\")\n",
        "f=plt.figure(figsize=(1,1))\n",
        "f,axes = plt.subplots(nrows=1, ncols=2, figsize=(20,10))\n",
        "sns.boxplot(x=d, ax=axes[0])\n",
        "sns.boxplot(x=e, ax=axes[1])\n",
        "\n",
        "plt.show()"
      ],
      "metadata": {
        "id": "HTYYlHjaXI-a"
      },
      "execution_count": null,
      "outputs": []
    },
    {
      "cell_type": "code",
      "source": [
        "# Countplot of last_review_year for general idea\n",
        "plt.figure(figsize=(10,6))\n",
        "sns.countplot(d)\n",
        "plt.show()"
      ],
      "metadata": {
        "id": "FDEDzyJqXzRZ"
      },
      "execution_count": null,
      "outputs": []
    },
    {
      "cell_type": "markdown",
      "source": [
        "##### 1. Why did you pick the specific chart?"
      ],
      "metadata": {
        "id": "iky9q4vBYrdO"
      }
    },
    {
      "cell_type": "markdown",
      "source": [
        " * These charts gives the distribution of values and helps to find the outliers and understand distribution frequency."
      ],
      "metadata": {
        "id": "aJRCwT6DYrdO"
      }
    },
    {
      "cell_type": "markdown",
      "source": [
        "##### 2. What is/are the insight(s) found from the chart?"
      ],
      "metadata": {
        "id": "F6T5p64dYrdO"
      }
    },
    {
      "cell_type": "markdown",
      "source": [
        "* For price per night, the values above 500 seems like outliers.\n",
        "* For number of reviews boxplot, the outliers are established listings with much popularity among the customers.\n",
        "* The minimum_nights boxplot helps to identify the outliers which are listings with minimum_nights more than one year.\n",
        "* the last_review boxplot provides information about actively rented and reviewed listings."
      ],
      "metadata": {
        "id": "Xx8WAJvtYrdO"
      }
    },
    {
      "cell_type": "markdown",
      "source": [
        "##### 3. Will the gained insights help creating a positive business impact? \n",
        "Are there any insights that lead to negative growth? Justify with specific reason."
      ],
      "metadata": {
        "id": "y-Ehk30pYrdP"
      }
    },
    {
      "cell_type": "markdown",
      "source": [
        "* Yeah, this will help in optimizing the business. Communicating with the owners of outlying listings in the above plots will be helpful in normalizing the distribution and optimizing the business of both the company and the host.\n"
      ],
      "metadata": {
        "id": "jLNxxz7MYrdP"
      }
    },
    {
      "cell_type": "markdown",
      "source": [
        "#### Chart - 6"
      ],
      "metadata": {
        "id": "bamQiAODYuh1"
      }
    },
    {
      "cell_type": "code",
      "source": [
        "# Chart - 6 visualization code\n",
        "# Neighbourhood group vs prices\n",
        "fig, (ax1,ax2) = plt.subplots(1,2, figsize=(16,6))\n",
        "sns.histplot(data=df_copy[df_copy['price'] < 5000], x='neighbourhood_group', y='price', hue='room_type', ax=ax1)\n",
        "\n",
        "sns.histplot(data=df_copy, x='neighbourhood_group', y='number_of_reviews', hue='room_type',ax=ax2)\n",
        "plt.show()"
      ],
      "metadata": {
        "id": "TIJwrbroYuh3"
      },
      "execution_count": null,
      "outputs": []
    },
    {
      "cell_type": "markdown",
      "source": [
        "##### 1. Why did you pick the specific chart?"
      ],
      "metadata": {
        "id": "QHF8YVU7Yuh3"
      }
    },
    {
      "cell_type": "markdown",
      "source": [
        "This Chart is able to beautifully depict the prices and reviews received for various roomtypes in different neighbourhood groups like a spectrum.\n",
        "* Chart 1 shows the spectrum of prices tagged for individual room types in various neighbourhood groups.\n",
        "* Chart 2 shows the spectrum of reviews received by individual room types in various neighbourhood groups."
      ],
      "metadata": {
        "id": "dcxuIMRPYuh3"
      }
    },
    {
      "cell_type": "markdown",
      "source": [
        "##### 2. What is/are the insight(s) found from the chart?"
      ],
      "metadata": {
        "id": "GwzvFGzlYuh3"
      }
    },
    {
      "cell_type": "markdown",
      "source": [
        "* In chart 1 the prices of rooms in Manhattan and Brooklyn are distributed in higher values lead by entire home/apt.\n",
        "* In Chart 2 the number of reviews also shows the same trend. Only the type of room which got the higher reviews shows a significant difference. private rooms are reviewed most."
      ],
      "metadata": {
        "id": "uyqkiB8YYuh3"
      }
    },
    {
      "cell_type": "markdown",
      "source": [
        "##### 3. Will the gained insights help creating a positive business impact? \n",
        "Are there any insights that lead to negative growth? Justify with specific reason."
      ],
      "metadata": {
        "id": "qYpmQ266Yuh3"
      }
    },
    {
      "cell_type": "markdown",
      "source": [
        "The following insights helps to create positive business impact:\n",
        "* The diverse prices of a particular room type can be attributed to the location, population density and quality of life offered by the neighbourhood groups.\n",
        "* From the second insight it can be assumed that private rooms are most frequently visited by new customers as they are reviewed the most."
      ],
      "metadata": {
        "id": "_WtzZ_hCYuh4"
      }
    },
    {
      "cell_type": "markdown",
      "source": [
        "#### Chart - 7"
      ],
      "metadata": {
        "id": "OH-pJp9IphqM"
      }
    },
    {
      "cell_type": "code",
      "source": [
        "# Chart - 7 visualization code\n",
        "a= df.loc[df['last_review_year'] > 0, ['minimum_nights']].squeeze()\n",
        "b = df.loc[df['last_review_year'] > 0, ['last_review_year']].squeeze()\n",
        "c = df.loc[df['last_review_year'] > 0, ['availability_365']].squeeze()\n",
        "\n",
        "f = plt.figure()\n",
        "f, axes = plt.subplots(nrows=2, ncols=2, figsize=(20,10))\n",
        "sns.scatterplot(x=df['reviews_per_month'], y= df['price'], ax=axes[0][0], hue=df['room_type'])\n",
        "sns.scatterplot(x=df['availability_365'], y= df['price'], ax=axes[0][1], hue=df['room_type'])\n",
        "sns.scatterplot(x=b, y=a, ax=axes[1][0], hue=df['room_type'])\n",
        "sns.scatterplot(x=c, y=a, ax=axes[1][1], hue=df['room_type'])\n",
        "plt.show()"
      ],
      "metadata": {
        "id": "kuRf4wtuphqN"
      },
      "execution_count": null,
      "outputs": []
    },
    {
      "cell_type": "markdown",
      "source": [
        "##### 1. Why did you pick the specific chart?"
      ],
      "metadata": {
        "id": "bbFf2-_FphqN"
      }
    },
    {
      "cell_type": "markdown",
      "source": [
        "* These charts helps to identify where most observations are accumulated."
      ],
      "metadata": {
        "id": "loh7H2nzphqN"
      }
    },
    {
      "cell_type": "markdown",
      "source": [
        "##### 2. What is/are the insight(s) found from the chart?"
      ],
      "metadata": {
        "id": "_ouA3fa0phqN"
      }
    },
    {
      "cell_type": "markdown",
      "source": [
        "* From chart 1 it can be observed that the reviews per month data of hugely priced listings are values closer to one.\n",
        "* From chart 2 one can easily understand that most of the rooms have their price in the range of 1-1000\n",
        "* In chart 3, listings with minimum night constraints above 365 are last reviewed before 2019.\n",
        "* Chart 4 depicts outliers with minimum night constraint of more than 1000"
      ],
      "metadata": {
        "id": "VECbqPI7phqN"
      }
    },
    {
      "cell_type": "markdown",
      "source": [
        "##### 3. Will the gained insights help creating a positive business impact? \n",
        "Are there any insights that lead to negative growth? Justify with specific reason."
      ],
      "metadata": {
        "id": "Seke61FWphqN"
      }
    },
    {
      "cell_type": "markdown",
      "source": [
        "* The insight from chart 1 tells us that either the hosts of highly priced rooms expects customers preferring luxury over value for money or they have over valued their property which can impact their and company's business.\n",
        "* The minimum night constraint can be a reason for less frequent review which probably can be a cause for very few customers. This can be inferred from chart 3 where the listing with minimum night constraint of 1200 was last reviewed on 2014.\n",
        "\n",
        "Addressing above issues can make the business function better."
      ],
      "metadata": {
        "id": "_YWhKtadsjst"
      }
    },
    {
      "cell_type": "markdown",
      "source": [
        "#### Chart - 8 - Pair plot"
      ],
      "metadata": {
        "id": "HQz0HnlGwgpL"
      }
    },
    {
      "cell_type": "code",
      "source": [
        "# Chart - 8 visualization code\n",
        "df_copy1 = df_copy.loc[(df_copy['price'] < 2000) & (df_copy['reviews_per_month'] < 20) & (df_copy['minimum_nights'] < 200)]\n",
        "df_copy1=df_copy1[['room_type', 'price', 'minimum_nights', 'reviews_per_month', 'availability_365', 'last_review_year']]\n",
        "sns.pairplot(df_copy1, hue='room_type')\n",
        "plt.show()"
      ],
      "metadata": {
        "id": "EUfxeq9-p1cl"
      },
      "execution_count": null,
      "outputs": []
    },
    {
      "cell_type": "markdown",
      "source": [
        "##### 1. Why did you pick the specific chart?"
      ],
      "metadata": {
        "id": "E6MkPsBcp1cl"
      }
    },
    {
      "cell_type": "markdown",
      "source": [
        "Pair plot helps in comparison of multiple variables in little space."
      ],
      "metadata": {
        "id": "V22bRsFWp1cl"
      }
    },
    {
      "cell_type": "markdown",
      "source": [
        "##### 2. What is/are the insight(s) found from the chart?"
      ],
      "metadata": {
        "id": "2cELzS2fp1cl"
      }
    },
    {
      "cell_type": "markdown",
      "source": [
        "* Most of the priced properties have lower minimum night constraints.\n",
        "* There are some higly priced shared rooms which has lower review per month.\n",
        "* The last review year before 2015 have 0.5-1 review per month"
      ],
      "metadata": {
        "id": "ozQPc2_Ip1cl"
      }
    },
    {
      "cell_type": "markdown",
      "source": [
        "##### 3. Will the gained insights help creating a positive business impact? \n",
        "Are there any insights that lead to negative growth? Justify with specific reason."
      ],
      "metadata": {
        "id": "3MPXvC8up1cl"
      }
    },
    {
      "cell_type": "markdown",
      "source": [
        "Following insights can lead to negative growth:\n",
        "* Some shared rooms are overpriced.This can affect the business since shared rooms are expected to be cheap.\n",
        "* For some listings the minimum night constraint inhibits frequent customer visits.This can be inferred from the above pair plot.\n",
        "\n",
        "Addressing these issues can create a positive business impact.\n",
        "\n"
      ],
      "metadata": {
        "id": "GL8l1tdLp1cl"
      }
    },
    {
      "cell_type": "code",
      "source": [
        "plt.figure(figsize=(20,10))\n",
        "sns.scatterplot(data=df_copy, x='latitude', y='longitude', hue='neighbourhood_group')\n",
        "plt.show()"
      ],
      "metadata": {
        "id": "OUjVnGn6lzD6"
      },
      "execution_count": null,
      "outputs": []
    },
    {
      "cell_type": "markdown",
      "source": [
        "#### Chart - 9 - Correlation Heatmap"
      ],
      "metadata": {
        "id": "NC_X3p0fY2L0"
      }
    },
    {
      "cell_type": "code",
      "source": [
        "# Correlation Heatmap visualization code\n",
        "plt.figure(figsize=(12,10))\n",
        "df_copy2 = df_copy1.iloc[:,1:]\n",
        "corr = df_copy2.corr()\n",
        "sns.heatmap(corr, annot=True)\n",
        "plt.show()\n"
      ],
      "metadata": {
        "id": "xyC9zolEZNRQ"
      },
      "execution_count": null,
      "outputs": []
    },
    {
      "cell_type": "markdown",
      "source": [
        "##### 1. Why did you pick the specific chart?"
      ],
      "metadata": {
        "id": "UV0SzAkaZNRQ"
      }
    },
    {
      "cell_type": "markdown",
      "source": [
        "* Helps to establish correlation between different variables."
      ],
      "metadata": {
        "id": "DVPuT8LYZNRQ"
      }
    },
    {
      "cell_type": "markdown",
      "source": [
        "##### 2. What is/are the insight(s) found from the chart?"
      ],
      "metadata": {
        "id": "YPEH6qLeZNRQ"
      }
    },
    {
      "cell_type": "markdown",
      "source": [
        "Negative Correlation:\n",
        "* Minimum nights and reviews per month.\n",
        "* Price and reviews per month.\n",
        "* Minimum nights and last review year.\n"
      ],
      "metadata": {
        "id": "bfSqtnDqZNRR"
      }
    },
    {
      "cell_type": "markdown",
      "source": [
        "* The major chunk of revenue for AirBnb comes from the neighbourhood groups Brooklyn and Manhattan as they have the largest number of listings. Running targetted campaigns to attract clients to Airbnb by showing how lucrative renting through AirBnb can be in Brooklyn and Manhattan.\n",
        "* For the rest of the neighbourhood groups, the company could make the people aware of the potential of properties they hold and how they could benefit from AirBnb.    \n",
        "* The preference for difference room types understood from above analysis could be used to pitch them to customers more effectively.\n",
        "* The diverse prices of a particular room type can be attributed to the location, population density and quality of life offered by the neighbourhood groups. \n",
        "* From the above analysis it can be assumed that private rooms are most frequently visited by new customers as they are reviewed the most. So this information could be used to promote more hosts providing private rooms. \n",
        "* Reducing the minimum nights constraint can increase the frequency of customer visit. This can be established from the correlation heat map.\n",
        "* Repricing overpriced shared rooms which are expected to be the cheapest, can bring more business to the hosts and to the company.\n",
        "* For the listings which were not reviewed after 2016-17, more deeper check on reviews and enquiring with the host could help to find out the reason for this. "
      ],
      "metadata": {
        "id": "pASKb0qOza21"
      }
    },
    {
      "cell_type": "markdown",
      "source": [
        "# **Conclusion**"
      ],
      "metadata": {
        "id": "gCX9965dhzqZ"
      }
    },
    {
      "cell_type": "markdown",
      "source": [
        "After conducting an exploratory data analysis on Airbnb data, it can be concluded that the Airbnb market is highly dynamic and has a vast range of options for travelers. The findings from this analysis show that the majority of listings are concentrated in a few cities, with the top cities having a higher demand for Airbnb accommodations. Additionally, the data highlights that the price of rentals varies greatly depending on the location, type of property, and time of year. Furthermore, it was observed that a significant portion of listings have high ratings, indicating that Airbnb provides quality experiences for travelers. Overall, the analysis provides valuable insights into the Airbnb market and can be used to inform strategic decisions for both travelers and property owners."
      ],
      "metadata": {
        "id": "Fjb1IsQkh3yE"
      }
    },
    {
      "cell_type": "markdown",
      "source": [
        "### ***Hurrah! You have successfully completed your EDA Capstone Project !!!***"
      ],
      "metadata": {
        "id": "gIfDvo9L0UH2"
      }
    }
  ]
}